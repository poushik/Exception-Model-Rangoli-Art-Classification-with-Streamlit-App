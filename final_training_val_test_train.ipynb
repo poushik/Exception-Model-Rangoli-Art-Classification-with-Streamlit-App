{
  "nbformat": 4,
  "nbformat_minor": 0,
  "metadata": {
    "colab": {
      "provenance": []
    },
    "kernelspec": {
      "name": "python3",
      "display_name": "Python 3"
    },
    "language_info": {
      "name": "python"
    }
  },
  "cells": [
    {
      "cell_type": "code",
      "execution_count": 1,
      "metadata": {
        "id": "9nFOi5nDGDMg"
      },
      "outputs": [],
      "source": [
        "import tensorflow as tf\n",
        "from tensorflow import keras"
      ]
    },
    {
      "cell_type": "code",
      "source": [
        "!unzip train_set.zip"
      ],
      "metadata": {
        "colab": {
          "base_uri": "https://localhost:8080/"
        },
        "id": "s8C402l1Goi-",
        "outputId": "f80d1cc1-be1f-4559-c9cc-be8e2d2c414c"
      },
      "execution_count": 2,
      "outputs": [
        {
          "output_type": "stream",
          "name": "stdout",
          "text": [
            "Archive:  train_set.zip\n",
            "  inflating: train_set/1 (1).jpg     \n",
            "  inflating: train_set/1 (10).jpg    \n",
            "  inflating: train_set/1 (11).jpg    \n",
            "  inflating: train_set/1 (12).jpg    \n",
            "  inflating: train_set/1 (13).jpg    \n",
            "  inflating: train_set/1 (14).jpg    \n",
            "  inflating: train_set/1 (15).jpg    \n",
            "  inflating: train_set/1 (16).jpg    \n",
            "  inflating: train_set/1 (17).jpg    \n",
            "  inflating: train_set/1 (18).jpg    \n",
            "  inflating: train_set/1 (19).jpg    \n",
            "  inflating: train_set/1 (2).jfif    \n",
            "  inflating: train_set/1 (2).jpg     \n",
            "  inflating: train_set/1 (20).jpg    \n",
            "  inflating: train_set/1 (21).jpg    \n",
            "  inflating: train_set/1 (22).jpg    \n",
            "  inflating: train_set/1 (23).jpg    \n",
            "  inflating: train_set/1 (25).jpg    \n",
            "  inflating: train_set/1 (29).jpg    \n",
            "  inflating: train_set/1 (3).jfif    \n",
            "  inflating: train_set/1 (3).jpg     \n",
            "  inflating: train_set/1 (30).jpg    \n",
            "  inflating: train_set/1 (31).jpg    \n",
            "  inflating: train_set/1 (32).jpg    \n",
            "  inflating: train_set/1 (33).jpg    \n",
            "  inflating: train_set/1 (34).jpg    \n",
            "  inflating: train_set/1 (37).jpg    \n",
            "  inflating: train_set/1 (38).jpg    \n",
            "  inflating: train_set/1 (39).jpg    \n",
            "  inflating: train_set/1 (4).jpg     \n",
            "  inflating: train_set/1 (40).jpg    \n",
            "  inflating: train_set/1 (42).jpg    \n",
            "  inflating: train_set/1 (44).jpg    \n",
            "  inflating: train_set/1 (45).jpg    \n",
            "  inflating: train_set/1 (46).jpg    \n",
            "  inflating: train_set/1 (47).jpg    \n",
            "  inflating: train_set/1 (48).jpg    \n",
            "  inflating: train_set/1 (50).jpg    \n",
            "  inflating: train_set/1 (51).jpg    \n",
            "  inflating: train_set/1 (54).jpg    \n",
            "  inflating: train_set/1 (55).jpg    \n",
            "  inflating: train_set/1 (57).jpg    \n",
            "  inflating: train_set/1 (58).jpg    \n",
            "  inflating: train_set/1 (59).jpg    \n",
            "  inflating: train_set/1 (6).jpg     \n",
            "  inflating: train_set/1 (60).jpg    \n",
            "  inflating: train_set/1 (61).jpg    \n",
            "  inflating: train_set/1 (63).jpg    \n",
            "  inflating: train_set/1 (64).jpg    \n",
            "  inflating: train_set/1 (65).jpg    \n",
            "  inflating: train_set/1 (66).jpg    \n",
            "  inflating: train_set/1 (67).jpg    \n",
            "  inflating: train_set/1 (68).jpg    \n",
            "  inflating: train_set/1 (69).jpg    \n",
            "  inflating: train_set/1 (70).jpg    \n",
            "  inflating: train_set/1 (71).jpg    \n",
            "  inflating: train_set/1 (72).jpg    \n",
            "  inflating: train_set/1 (73).jpg    \n",
            "  inflating: train_set/1 (74).jpg    \n",
            "  inflating: train_set/1 (75).jpg    \n",
            "  inflating: train_set/1 (76).jpg    \n",
            "  inflating: train_set/1 (78).jfif   \n",
            "  inflating: train_set/2 (1).jpg     \n",
            "  inflating: train_set/2 (10).jpg    \n",
            "  inflating: train_set/2 (11).jpg    \n",
            "  inflating: train_set/2 (12).jpg    \n",
            "  inflating: train_set/2 (13).jpg    \n",
            "  inflating: train_set/2 (14).jpg    \n",
            "  inflating: train_set/2 (15).jpg    \n",
            "  inflating: train_set/2 (17).jpg    \n",
            "  inflating: train_set/2 (18).jpg    \n",
            "  inflating: train_set/2 (19).jpg    \n",
            "  inflating: train_set/2 (2).jpg     \n",
            "  inflating: train_set/2 (20).jpg    \n",
            "  inflating: train_set/2 (21).jpg    \n",
            "  inflating: train_set/2 (23).jpg    \n",
            "  inflating: train_set/2 (24).jpg    \n",
            "  inflating: train_set/2 (26).jpg    \n",
            "  inflating: train_set/2 (27).jpg    \n",
            "  inflating: train_set/2 (28).jpg    \n",
            "  inflating: train_set/2 (3).jpg     \n",
            "  inflating: train_set/2 (30).jpg    \n",
            "  inflating: train_set/2 (31).jpg    \n",
            "  inflating: train_set/2 (32).jpg    \n",
            "  inflating: train_set/2 (33).jpg    \n",
            "  inflating: train_set/2 (34).jpg    \n",
            "  inflating: train_set/2 (5).jpg     \n",
            "  inflating: train_set/2 (7).jpg     \n",
            "  inflating: train_set/2 (8).jpg     \n",
            "  inflating: train_set/2 (9).jpg     \n",
            "  inflating: train_set/3 (1).jpg     \n",
            "  inflating: train_set/3 (10).jpg    \n",
            "  inflating: train_set/3 (11).jpg    \n",
            "  inflating: train_set/3 (12).jpg    \n",
            "  inflating: train_set/3 (13).jpg    \n",
            "  inflating: train_set/3 (14).jpg    \n",
            "  inflating: train_set/3 (15).jpg    \n",
            "  inflating: train_set/3 (16).jpg    \n",
            "  inflating: train_set/3 (18).jpg    \n",
            "  inflating: train_set/3 (19).jpg    \n",
            "  inflating: train_set/3 (2).jpg     \n",
            "  inflating: train_set/3 (23).jpg    \n",
            "  inflating: train_set/3 (25).jpg    \n",
            "  inflating: train_set/3 (26).jpg    \n",
            "  inflating: train_set/3 (27).jpg    \n",
            "  inflating: train_set/3 (3).jpg     \n",
            "  inflating: train_set/3 (30).jpg    \n",
            "  inflating: train_set/3 (31).jpg    \n",
            "  inflating: train_set/3 (32).jpg    \n",
            "  inflating: train_set/3 (34).jpg    \n",
            "  inflating: train_set/3 (35).jpg    \n",
            "  inflating: train_set/3 (36).jpg    \n",
            "  inflating: train_set/3 (37).jpg    \n",
            "  inflating: train_set/3 (38).jpg    \n",
            "  inflating: train_set/3 (39).jpg    \n",
            "  inflating: train_set/3 (4).jpg     \n",
            "  inflating: train_set/3 (40).jpg    \n",
            "  inflating: train_set/3 (42).jpg    \n",
            "  inflating: train_set/3 (43).jpg    \n",
            "  inflating: train_set/3 (44).jpg    \n",
            "  inflating: train_set/3 (45).jpg    \n",
            "  inflating: train_set/3 (46).jpg    \n",
            "  inflating: train_set/3 (47).jpg    \n",
            "  inflating: train_set/3 (49).jpg    \n",
            "  inflating: train_set/3 (5).jpg     \n",
            "  inflating: train_set/3 (52).jpg    \n",
            "  inflating: train_set/3 (53).jpg    \n",
            "  inflating: train_set/3 (54).jpg    \n",
            "  inflating: train_set/3 (56).jpg    \n",
            "  inflating: train_set/3 (57).jpg    \n",
            "  inflating: train_set/3 (58).jpg    \n",
            "  inflating: train_set/3 (59).jpg    \n",
            "  inflating: train_set/3 (6).jpg     \n",
            "  inflating: train_set/3 (60).jpg    \n",
            "  inflating: train_set/3 (61).jpg    \n",
            "  inflating: train_set/3 (62).jpg    \n",
            "  inflating: train_set/3 (63).jpg    \n",
            "  inflating: train_set/3 (65).jpg    \n",
            "  inflating: train_set/3 (67).jpg    \n",
            "  inflating: train_set/3 (68).jpg    \n",
            "  inflating: train_set/3 (69).jpg    \n",
            "  inflating: train_set/3 (71).jpg    \n",
            "  inflating: train_set/3 (73).jpg    \n",
            "  inflating: train_set/3 (74).jpg    \n",
            "  inflating: train_set/3 (76).jpg    \n",
            "  inflating: train_set/3 (77).jpg    \n",
            "  inflating: train_set/3 (8).jpg     \n",
            "  inflating: train_set/3 (9).jpg     \n",
            "  inflating: train_set/4 (1).jfif    \n",
            "  inflating: train_set/4 (1).jpg     \n",
            "  inflating: train_set/4 (10).jpg    \n",
            "  inflating: train_set/4 (11).jpg    \n",
            "  inflating: train_set/4 (12).jpg    \n",
            "  inflating: train_set/4 (13).jpg    \n",
            "  inflating: train_set/4 (14).jpg    \n",
            "  inflating: train_set/4 (15).jpg    \n",
            "  inflating: train_set/4 (16).jpg    \n",
            "  inflating: train_set/4 (17).jpg    \n",
            "  inflating: train_set/4 (18).jpg    \n",
            "  inflating: train_set/4 (19).jpg    \n",
            "  inflating: train_set/4 (2).jfif    \n",
            "  inflating: train_set/4 (2).jpg     \n",
            "  inflating: train_set/4 (20).jpg    \n",
            "  inflating: train_set/4 (21).jpg    \n",
            "  inflating: train_set/4 (23).jpg    \n",
            "  inflating: train_set/4 (24).jpg    \n",
            "  inflating: train_set/4 (26).jpg    \n",
            "  inflating: train_set/4 (27).jpg    \n",
            "  inflating: train_set/4 (28).jpg    \n",
            "  inflating: train_set/4 (29).jpg    \n",
            "  inflating: train_set/4 (3).jpg     \n",
            "  inflating: train_set/4 (30).jpg    \n",
            "  inflating: train_set/4 (31).jpg    \n",
            "  inflating: train_set/4 (33).jpg    \n",
            "  inflating: train_set/4 (34).jpg    \n",
            "  inflating: train_set/4 (35).jpg    \n",
            "  inflating: train_set/4 (36).jpg    \n",
            "  inflating: train_set/4 (37).jpg    \n",
            "  inflating: train_set/4 (38).jpg    \n",
            "  inflating: train_set/4 (39).jpg    \n",
            "  inflating: train_set/4 (4).jfif    \n",
            "  inflating: train_set/4 (4).jpg     \n",
            "  inflating: train_set/4 (40).jpg    \n",
            "  inflating: train_set/4 (41).jpg    \n",
            "  inflating: train_set/4 (43).jpg    \n",
            "  inflating: train_set/4 (44).jpg    \n",
            "  inflating: train_set/4 (45).jpg    \n",
            "  inflating: train_set/4 (47).jpg    \n",
            "  inflating: train_set/4 (48).jpg    \n",
            "  inflating: train_set/4 (49).jpg    \n",
            "  inflating: train_set/4 (5).jfif    \n",
            "  inflating: train_set/4 (5).jpg     \n",
            "  inflating: train_set/4 (50).jpg    \n",
            "  inflating: train_set/4 (51).jpg    \n",
            "  inflating: train_set/4 (52).jpg    \n",
            "  inflating: train_set/4 (54).jpg    \n",
            "  inflating: train_set/4 (56).jpg    \n",
            "  inflating: train_set/4 (57).jpg    \n",
            "  inflating: train_set/4 (58).jpg    \n",
            "  inflating: train_set/4 (59).jpg    \n",
            "  inflating: train_set/4 (6).jfif    \n",
            "  inflating: train_set/4 (6).jpg     \n",
            "  inflating: train_set/4 (60).jpg    \n",
            "  inflating: train_set/4 (61).jpg    \n",
            "  inflating: train_set/4 (62).jpg    \n",
            "  inflating: train_set/4 (63).jpg    \n",
            "  inflating: train_set/4 (64).jpg    \n",
            "  inflating: train_set/4 (65).jpg    \n",
            "  inflating: train_set/4 (66).jpg    \n",
            "  inflating: train_set/4 (67).jpg    \n",
            "  inflating: train_set/4 (68).jpg    \n",
            "  inflating: train_set/4 (69).jpg    \n",
            "  inflating: train_set/4 (7).jpg     \n",
            "  inflating: train_set/4 (70).jpg    \n",
            "  inflating: train_set/4 (71).jpg    \n",
            "  inflating: train_set/4 (72).jpg    \n",
            "  inflating: train_set/4 (8).jpg     \n",
            "  inflating: train_set/4 (9).jpg     \n",
            "  inflating: train_set/5 (1).jpg     \n",
            "  inflating: train_set/5 (10).jpg    \n",
            "  inflating: train_set/5 (11).jpg    \n",
            "  inflating: train_set/5 (13).jpg    \n",
            "  inflating: train_set/5 (14).jpg    \n",
            "  inflating: train_set/5 (15).jpg    \n",
            "  inflating: train_set/5 (16).jpg    \n",
            "  inflating: train_set/5 (19).jpg    \n",
            "  inflating: train_set/5 (2).jpg     \n",
            "  inflating: train_set/5 (20).jpg    \n",
            "  inflating: train_set/5 (21).jpg    \n",
            "  inflating: train_set/5 (22).jpg    \n",
            "  inflating: train_set/5 (23).jpg    \n",
            "  inflating: train_set/5 (24).jpg    \n",
            "  inflating: train_set/5 (25).jpg    \n",
            "  inflating: train_set/5 (26).jpg    \n",
            "  inflating: train_set/5 (27).jpg    \n",
            "  inflating: train_set/5 (29).jpg    \n",
            "  inflating: train_set/5 (3).jpg     \n",
            "  inflating: train_set/5 (30).jpg    \n",
            "  inflating: train_set/5 (32).jpg    \n",
            "  inflating: train_set/5 (37).jpg    \n",
            "  inflating: train_set/5 (38).jpg    \n",
            "  inflating: train_set/5 (39).jpg    \n",
            "  inflating: train_set/5 (4).jpg     \n",
            "  inflating: train_set/5 (40).jpg    \n",
            "  inflating: train_set/5 (41).jpg    \n",
            "  inflating: train_set/5 (42).jpg    \n",
            "  inflating: train_set/5 (43).jpg    \n",
            "  inflating: train_set/5 (44).jpg    \n",
            "  inflating: train_set/5 (45).jpg    \n",
            "  inflating: train_set/5 (47).jpg    \n",
            "  inflating: train_set/5 (48).jpg    \n",
            "  inflating: train_set/5 (49).jpg    \n",
            "  inflating: train_set/5 (51).jpg    \n",
            "  inflating: train_set/5 (52).jpg    \n",
            "  inflating: train_set/5 (53).jpg    \n",
            "  inflating: train_set/5 (54).jpg    \n",
            "  inflating: train_set/5 (55).jpg    \n",
            "  inflating: train_set/5 (56).jpg    \n",
            "  inflating: train_set/5 (57).jpg    \n",
            "  inflating: train_set/5 (58).jpg    \n",
            "  inflating: train_set/5 (59).jpg    \n",
            "  inflating: train_set/5 (6).jpg     \n",
            "  inflating: train_set/5 (60).jpg    \n",
            "  inflating: train_set/5 (61).jpg    \n",
            "  inflating: train_set/5 (63).jpg    \n",
            "  inflating: train_set/5 (65).jpg    \n",
            "  inflating: train_set/5 (67).jpg    \n",
            "  inflating: train_set/5 (68).jpg    \n",
            "  inflating: train_set/5 (69).jpg    \n",
            "  inflating: train_set/5 (7).jpg     \n",
            "  inflating: train_set/5 (71).jpg    \n",
            "  inflating: train_set/5 (72).jpg    \n",
            "  inflating: train_set/5 (73).jpg    \n",
            "  inflating: train_set/5 (74).jpg    \n",
            "  inflating: train_set/5 (75).jpg    \n",
            "  inflating: train_set/5 (76).jpg    \n"
          ]
        }
      ]
    },
    {
      "cell_type": "code",
      "source": [
        "!unzip validation_set.zip"
      ],
      "metadata": {
        "colab": {
          "base_uri": "https://localhost:8080/"
        },
        "id": "p2X98N3thASR",
        "outputId": "a01f5234-9e58-4f64-c8a0-212fe4ac7787"
      },
      "execution_count": 3,
      "outputs": [
        {
          "output_type": "stream",
          "name": "stdout",
          "text": [
            "Archive:  validation_set.zip\n",
            "  inflating: validation_set/1 (24).jpg  \n",
            "  inflating: validation_set/1 (26).jpg  \n",
            "  inflating: validation_set/1 (27).jpg  \n",
            "  inflating: validation_set/1 (28).jpg  \n",
            "  inflating: validation_set/1 (35).jpg  \n",
            "  inflating: validation_set/1 (52).jpg  \n",
            "  inflating: validation_set/1 (56).jpg  \n",
            "  inflating: validation_set/1 (62).jpg  \n",
            "  inflating: validation_set/1 (77).jpg  \n",
            "  inflating: validation_set/1 (9).jpg  \n",
            "  inflating: validation_set/2 (25).jpg  \n",
            "  inflating: validation_set/2 (35).jpg  \n",
            "  inflating: validation_set/2 (4).jpg  \n",
            "  inflating: validation_set/3 (20).jpg  \n",
            "  inflating: validation_set/3 (21).jpg  \n",
            "  inflating: validation_set/3 (24).jpg  \n",
            "  inflating: validation_set/3 (28).jpg  \n",
            "  inflating: validation_set/3 (33).jpg  \n",
            "  inflating: validation_set/3 (41).jpg  \n",
            "  inflating: validation_set/3 (50).jpg  \n",
            "  inflating: validation_set/3 (7).jpg  \n",
            "  inflating: validation_set/3 (70).jpg  \n",
            "  inflating: validation_set/4 (25).jpg  \n",
            "  inflating: validation_set/4 (3).jfif  \n",
            "  inflating: validation_set/4 (46).jpg  \n",
            "  inflating: validation_set/5 (18).jpg  \n",
            "  inflating: validation_set/5 (36).jpg  \n",
            "  inflating: validation_set/5 (5).jpg  \n",
            "  inflating: validation_set/5 (62).jpg  \n",
            "  inflating: validation_set/5 (64).jpg  \n",
            "  inflating: validation_set/5 (66).jpg  \n",
            "  inflating: validation_set/5 (70).jpg  \n",
            "  inflating: validation_set/5 (8).jpg  \n",
            "  inflating: validation_set/5 (9).jpg  \n"
          ]
        }
      ]
    },
    {
      "cell_type": "code",
      "source": [
        "!unzip test_set.zip"
      ],
      "metadata": {
        "colab": {
          "base_uri": "https://localhost:8080/"
        },
        "id": "gzxouz380bwl",
        "outputId": "fcb5a4c1-0dbe-4c16-c3a1-e0a69bc53582"
      },
      "execution_count": 4,
      "outputs": [
        {
          "output_type": "stream",
          "name": "stdout",
          "text": [
            "Archive:  test_set.zip\n",
            "  inflating: test_set/1 (36).jpg     \n",
            "  inflating: test_set/1 (41).jpg     \n",
            "  inflating: test_set/1 (43).jpg     \n",
            "  inflating: test_set/1 (49).jpg     \n",
            "  inflating: test_set/1 (5).jpg      \n",
            "  inflating: test_set/1 (53).jpg     \n",
            "  inflating: test_set/1 (7).jpg      \n",
            "  inflating: test_set/1 (8).jpg      \n",
            "  inflating: test_set/2 (16).jpg     \n",
            "  inflating: test_set/2 (22).jpg     \n",
            "  inflating: test_set/2 (29).jpg     \n",
            "  inflating: test_set/2 (6).jpg      \n",
            "  inflating: test_set/3 (17).jpg     \n",
            "  inflating: test_set/3 (22).jpg     \n",
            "  inflating: test_set/3 (29).jpg     \n",
            "  inflating: test_set/3 (48).jpg     \n",
            "  inflating: test_set/3 (51).jpg     \n",
            "  inflating: test_set/3 (55).jpg     \n",
            "  inflating: test_set/3 (64).jpg     \n",
            "  inflating: test_set/3 (66).jpg     \n",
            "  inflating: test_set/3 (72).jpg     \n",
            "  inflating: test_set/3 (75).jpg     \n",
            "  inflating: test_set/4 (22).jpg     \n",
            "  inflating: test_set/4 (32).jpg     \n",
            "  inflating: test_set/4 (42).jpg     \n",
            "  inflating: test_set/4 (53).jpg     \n",
            "  inflating: test_set/4 (55).jpg     \n",
            "  inflating: test_set/5 (12).jpg     \n",
            "  inflating: test_set/5 (17).jpg     \n",
            "  inflating: test_set/5 (28).jpg     \n",
            "  inflating: test_set/5 (31).jpg     \n",
            "  inflating: test_set/5 (33).jpg     \n",
            "  inflating: test_set/5 (34).jpg     \n",
            "  inflating: test_set/5 (35).jpg     \n",
            "  inflating: test_set/5 (46).jpg     \n",
            "  inflating: test_set/5 (50).jpg     \n"
          ]
        }
      ]
    },
    {
      "cell_type": "code",
      "source": [
        "batch_size=32\n",
        "image_size= (227,227)\n",
        "main_folder = \"/content/train_set\""
      ],
      "metadata": {
        "id": "ZfQzVw2CGsbf"
      },
      "execution_count": 5,
      "outputs": []
    },
    {
      "cell_type": "code",
      "source": [
        "import os\n",
        "path = \"/content/train_set\"\n",
        "files = (file for file in os.listdir(path) if os.path.isfile(os.path.join(path, file)))"
      ],
      "metadata": {
        "id": "WGHYXyIVGsmr"
      },
      "execution_count": 6,
      "outputs": []
    },
    {
      "cell_type": "code",
      "source": [
        "import os\n",
        "import shutil\n",
        "\n",
        "# Source directory containing files\n",
        "source_directory = '/content/train_set/'\n",
        "\n",
        "# Destination directory\n",
        "destination_root = '/content/train_set/'\n",
        "\n",
        "# Ensure the destination directory exists\n",
        "os.makedirs(destination_root, exist_ok=True)\n",
        "\n",
        "# Iterate over files in the source directory\n",
        "for filename in os.listdir(source_directory):\n",
        "    source_file = os.path.join(source_directory, filename)\n",
        "\n",
        "    # Check if it's a file (not a directory)\n",
        "    if os.path.isfile(source_file):\n",
        "        # Extract the first character of the filename (assuming filenames are not empty)\n",
        "        first_character = filename[0]\n",
        "\n",
        "        # Create a subdirectory in the destination directory with the first character\n",
        "        destination_directory = os.path.join(destination_root, first_character)\n",
        "\n",
        "        # Ensure the subdirectory exists\n",
        "        os.makedirs(destination_directory, exist_ok=True)\n",
        "\n",
        "        # Define the destination path for the file\n",
        "        destination_file = os.path.join(destination_directory, filename)\n",
        "\n",
        "        # Move the file to the destination\n",
        "        shutil.move(source_file, destination_file)\n",
        "\n",
        "print(\"Files moved successfully!\")\n"
      ],
      "metadata": {
        "id": "kbIcBekpHVNN",
        "colab": {
          "base_uri": "https://localhost:8080/"
        },
        "outputId": "774e9e6c-04d2-4704-c5ed-c3dc4a21c086"
      },
      "execution_count": 7,
      "outputs": [
        {
          "output_type": "stream",
          "name": "stdout",
          "text": [
            "Files moved successfully!\n"
          ]
        }
      ]
    },
    {
      "cell_type": "code",
      "source": [
        "path = \"/content/validation_set\"\n",
        "files = (file for file in os.listdir(path) if os.path.isfile(os.path.join(path, file)))"
      ],
      "metadata": {
        "id": "MnNmfuyfhSre"
      },
      "execution_count": 8,
      "outputs": []
    },
    {
      "cell_type": "code",
      "source": [
        "import os\n",
        "import shutil\n",
        "\n",
        "# Source directory containing files\n",
        "source_directory = '/content/validation_set'\n",
        "\n",
        "# Destination directory\n",
        "destination_root = '/content/validation_set'\n",
        "\n",
        "# Ensure the destination directory exists\n",
        "os.makedirs(destination_root, exist_ok=True)\n",
        "\n",
        "# Iterate over files in the source directory\n",
        "for filename in os.listdir(source_directory):\n",
        "    source_file = os.path.join(source_directory, filename)\n",
        "\n",
        "    # Check if it's a file (not a directory)\n",
        "    if os.path.isfile(source_file):\n",
        "        # Extract the first character of the filename (assuming filenames are not empty)\n",
        "        first_character = filename[0]\n",
        "\n",
        "        # Create a subdirectory in the destination directory with the first character\n",
        "        destination_directory = os.path.join(destination_root, first_character)\n",
        "\n",
        "        # Ensure the subdirectory exists\n",
        "        os.makedirs(destination_directory, exist_ok=True)\n",
        "\n",
        "        # Define the destination path for the file\n",
        "        destination_file = os.path.join(destination_directory, filename)\n",
        "\n",
        "        # Move the file to the destination\n",
        "        shutil.move(source_file, destination_file)\n",
        "\n",
        "print(\"Files moved successfully!\")\n"
      ],
      "metadata": {
        "colab": {
          "base_uri": "https://localhost:8080/"
        },
        "id": "CWMtEKG0hWKY",
        "outputId": "0373be66-dcf9-4c27-fb85-64f98c07bc67"
      },
      "execution_count": 9,
      "outputs": [
        {
          "output_type": "stream",
          "name": "stdout",
          "text": [
            "Files moved successfully!\n"
          ]
        }
      ]
    },
    {
      "cell_type": "code",
      "source": [
        "path = \"/content/test_set\"\n",
        "files = (file for file in os.listdir(path) if os.path.isfile(os.path.join(path, file)))\n",
        "\n"
      ],
      "metadata": {
        "id": "XrP-eZnb0185"
      },
      "execution_count": 10,
      "outputs": []
    },
    {
      "cell_type": "code",
      "source": [
        "import os\n",
        "import shutil\n",
        "\n",
        "# Source directory containing files\n",
        "source_directory = '/content/test_set'\n",
        "\n",
        "# Destination directory\n",
        "destination_root = '/content/test_set'\n",
        "\n",
        "# Ensure the destination directory exists\n",
        "os.makedirs(destination_root, exist_ok=True)\n",
        "\n",
        "# Iterate over files in the source directory\n",
        "for filename in os.listdir(source_directory):\n",
        "    source_file = os.path.join(source_directory, filename)\n",
        "\n",
        "    # Check if it's a file (not a directory)\n",
        "    if os.path.isfile(source_file):\n",
        "        # Extract the first character of the filename (assuming filenames are not empty)\n",
        "        first_character = filename[0]\n",
        "\n",
        "        # Create a subdirectory in the destination directory with the first character\n",
        "        destination_directory = os.path.join(destination_root, first_character)\n",
        "\n",
        "        # Ensure the subdirectory exists\n",
        "        os.makedirs(destination_directory, exist_ok=True)\n",
        "\n",
        "        # Define the destination path for the file\n",
        "        destination_file = os.path.join(destination_directory, filename)\n",
        "\n",
        "        # Move the file to the destination\n",
        "        shutil.move(source_file, destination_file)\n",
        "\n",
        "print(\"Files moved successfully!\")\n"
      ],
      "metadata": {
        "colab": {
          "base_uri": "https://localhost:8080/"
        },
        "id": "5joTnraT06bM",
        "outputId": "5441b45c-0158-4ad2-bf8d-773f4bccf0aa"
      },
      "execution_count": 11,
      "outputs": [
        {
          "output_type": "stream",
          "name": "stdout",
          "text": [
            "Files moved successfully!\n"
          ]
        }
      ]
    },
    {
      "cell_type": "code",
      "source": [
        "import tensorflow as tf\n",
        "from tensorflow.keras.callbacks import Callback\n",
        "\n",
        "class CustomCallback(Callback):\n",
        "    def _init_(self, target_accuracy=0.97):\n",
        "        super(CustomCallback, self)._init_()\n",
        "        self.target_accuracy = target_accuracy\n",
        "\n",
        "    def on_epoch_end(self, epoch, logs=None):\n",
        "        if logs is None:\n",
        "            logs = {}\n",
        "        if 'acc' in logs and logs['acc'] is not None and logs['acc'] >= self.target_accuracy:\n",
        "            print(f\"\\nReached {self.target_accuracy * 100:.2f}% training accuracy. Stopping training.\")\n",
        "            self.model.stop_training = True"
      ],
      "metadata": {
        "id": "a732wJxp2Lsm"
      },
      "execution_count": 12,
      "outputs": []
    },
    {
      "cell_type": "code",
      "source": [
        "from tensorflow.keras.applications import Xception\n",
        "from tensorflow.keras.layers import GlobalAveragePooling2D, Dense, Dropout, BatchNormalization\n",
        "from tensorflow.keras.models import Sequential\n",
        "from tensorflow.keras.optimizers import Adam\n",
        "from tensorflow.keras.preprocessing.image import ImageDataGenerator"
      ],
      "metadata": {
        "id": "cDC1_0XUhvls"
      },
      "execution_count": 13,
      "outputs": []
    },
    {
      "cell_type": "code",
      "source": [
        "tf.random.set_seed(42)"
      ],
      "metadata": {
        "id": "DfT2Z32Eo56H"
      },
      "execution_count": 14,
      "outputs": []
    },
    {
      "cell_type": "code",
      "source": [
        "base_model1 = Xception(\n",
        "    include_top=False,\n",
        "    weights='imagenet',\n",
        "    input_shape=(331, 331, 3)\n",
        ")"
      ],
      "metadata": {
        "id": "0MNFg_DDh1JW",
        "colab": {
          "base_uri": "https://localhost:8080/"
        },
        "outputId": "7e674006-3eae-4439-e472-98f3619b4724"
      },
      "execution_count": 15,
      "outputs": [
        {
          "output_type": "stream",
          "name": "stdout",
          "text": [
            "Downloading data from https://storage.googleapis.com/tensorflow/keras-applications/xception/xception_weights_tf_dim_ordering_tf_kernels_notop.h5\n",
            "83683744/83683744 [==============================] - 1s 0us/step\n"
          ]
        }
      ]
    },
    {
      "cell_type": "code",
      "source": [
        "base_model1.trainable = False"
      ],
      "metadata": {
        "id": "Us6q2991pGr7"
      },
      "execution_count": 16,
      "outputs": []
    },
    {
      "cell_type": "code",
      "source": [
        "base_model1.trainable = False\n",
        "\n",
        "# Create the classification model\n",
        "model1 = Sequential([\n",
        "    base_model1,\n",
        "    BatchNormalization(renorm=True),\n",
        "    GlobalAveragePooling2D(),\n",
        "    Dense(512, activation='relu'),\n",
        "    Dense(256, activation='relu'),\n",
        "    Dropout(0.5),\n",
        "    Dense(128, activation='relu'),\n",
        "    Dense(5, activation='softmax')\n",
        "])"
      ],
      "metadata": {
        "id": "BbM6J4wPh3B4"
      },
      "execution_count": 17,
      "outputs": []
    },
    {
      "cell_type": "code",
      "source": [
        "model1.compile(\n",
        "    optimizer=Adam(lr=0.001),\n",
        "    loss='categorical_crossentropy',\n",
        "    metrics=['accuracy']\n",
        ")"
      ],
      "metadata": {
        "colab": {
          "base_uri": "https://localhost:8080/"
        },
        "id": "TI2u4319h-UP",
        "outputId": "6e84979b-e19b-49da-8f09-32df3f7e8061"
      },
      "execution_count": 18,
      "outputs": [
        {
          "output_type": "stream",
          "name": "stderr",
          "text": [
            "WARNING:absl:`lr` is deprecated in Keras optimizer, please use `learning_rate` or use the legacy optimizer, e.g.,tf.keras.optimizers.legacy.Adam.\n"
          ]
        }
      ]
    },
    {
      "cell_type": "code",
      "source": [
        "train_datagen = ImageDataGenerator(rescale=1./255)  # You can specify other data augmentation options here\n",
        "train_generator = train_datagen.flow_from_directory(\n",
        "    '/content/train_set',\n",
        "    target_size=(331, 331),\n",
        "    batch_size=32,\n",
        "    class_mode='categorical'\n",
        ")\n",
        "test_datagen = ImageDataGenerator(rescale=1./255)  # You can specify other data augmentation options here\n",
        "validation_generator = test_datagen.flow_from_directory(\n",
        "    '/content/validation_set',\n",
        "    target_size=(331, 331),\n",
        "    batch_size=32,\n",
        "    class_mode='categorical'\n",
        ")"
      ],
      "metadata": {
        "colab": {
          "base_uri": "https://localhost:8080/"
        },
        "id": "8HEiK87EiQfj",
        "outputId": "2cdd299d-0a4e-4f97-ce4a-c0e5f2595ee8"
      },
      "execution_count": 19,
      "outputs": [
        {
          "output_type": "stream",
          "name": "stdout",
          "text": [
            "Found 268 images belonging to 5 classes.\n",
            "Found 33 images belonging to 5 classes.\n"
          ]
        }
      ]
    },
    {
      "cell_type": "code",
      "source": [
        "custom_callback = CustomCallback()\n",
        "\n",
        "batch_size=32\n",
        "STEP_SIZE_TRAIN = train_generator.n//train_generator.batch_size\n",
        "STEP_SIZE_VALID = validation_generator.n//validation_generator.batch_size\n",
        "\n",
        "# Train the model with the custom callback\n",
        "history = model1.fit(\n",
        "    train_generator,\n",
        "    epochs=8,\n",
        "    steps_per_epoch=STEP_SIZE_TRAIN,\n",
        "    validation_data=validation_generator,\n",
        "    validation_steps=STEP_SIZE_VALID,\n",
        "    callbacks=[custom_callback]\n",
        ")"
      ],
      "metadata": {
        "colab": {
          "base_uri": "https://localhost:8080/"
        },
        "id": "tJzVslgtiU5D",
        "outputId": "fe5a9383-f692-4817-9985-47afcbfbee85"
      },
      "execution_count": 20,
      "outputs": [
        {
          "output_type": "stream",
          "name": "stdout",
          "text": [
            "Epoch 1/8\n",
            "8/8 [==============================] - 138s 17s/step - loss: 1.4295 - accuracy: 0.3559 - val_loss: 0.9291 - val_accuracy: 0.6875\n",
            "Epoch 2/8\n",
            "8/8 [==============================] - 135s 17s/step - loss: 0.7696 - accuracy: 0.7966 - val_loss: 0.5319 - val_accuracy: 0.7812\n",
            "Epoch 3/8\n",
            "8/8 [==============================] - 135s 17s/step - loss: 0.4667 - accuracy: 0.8347 - val_loss: 0.6858 - val_accuracy: 0.7188\n",
            "Epoch 4/8\n",
            "8/8 [==============================] - 137s 17s/step - loss: 0.3082 - accuracy: 0.8856 - val_loss: 0.5199 - val_accuracy: 0.7500\n",
            "Epoch 5/8\n",
            "8/8 [==============================] - 137s 17s/step - loss: 0.1392 - accuracy: 0.9661 - val_loss: 0.3881 - val_accuracy: 0.8438\n",
            "Epoch 6/8\n",
            "8/8 [==============================] - 132s 17s/step - loss: 0.1083 - accuracy: 0.9661 - val_loss: 0.5016 - val_accuracy: 0.8125\n",
            "Epoch 7/8\n",
            "8/8 [==============================] - 146s 19s/step - loss: 0.0658 - accuracy: 0.9883 - val_loss: 0.2338 - val_accuracy: 0.9375\n",
            "Epoch 8/8\n",
            "8/8 [==============================] - 136s 17s/step - loss: 0.0394 - accuracy: 0.9831 - val_loss: 0.1319 - val_accuracy: 0.9062\n"
          ]
        }
      ]
    },
    {
      "cell_type": "code",
      "source": [],
      "metadata": {
        "id": "9IQRr_N2sr0W"
      },
      "execution_count": 20,
      "outputs": []
    },
    {
      "cell_type": "code",
      "source": [
        "import matplotlib.pyplot as plt"
      ],
      "metadata": {
        "id": "3Oxa-CTAjNvf"
      },
      "execution_count": 30,
      "outputs": []
    },
    {
      "cell_type": "code",
      "source": [
        "acc = history.history['accuracy']\n",
        "val_acc = history.history['val_accuracy']\n",
        "loss = history.history['loss']\n",
        "val_loss = history.history['val_loss']"
      ],
      "metadata": {
        "id": "-X0fJHWGjN7d"
      },
      "execution_count": 31,
      "outputs": []
    },
    {
      "cell_type": "code",
      "source": [
        "# plot results\n",
        "# accuracy\n",
        "plt.figure(figsize=(10, 16))\n",
        "plt.rcParams['figure.figsize'] = [16, 9]\n",
        "plt.rcParams['font.size'] = 14\n",
        "plt.rcParams['axes.grid'] = True\n",
        "plt.rcParams['figure.facecolor'] = 'white'\n",
        "plt.subplot(2, 1, 1)\n",
        "plt.plot(acc, label='Training Accuracy')\n",
        "plt.plot(val_acc, label='Validation Accuracy')\n",
        "plt.legend(loc='lower right')\n",
        "plt.ylabel('Accuracy')\n",
        "plt.xlabel('Kolam Classification: Exception model Transfer Learning')\n",
        "plt.title(f'\\nTraining and Validation Accuracy. \\nTrain Accuracy:{str(acc[-1])}\\nValidation Accuracy: {str(val_acc[-1])}')"
      ],
      "metadata": {
        "colab": {
          "base_uri": "https://localhost:8080/",
          "height": 773
        },
        "id": "bkG5s9Tf3-A5",
        "outputId": "64a79d1c-507f-4e6a-d1b0-b06d2d88687f"
      },
      "execution_count": 23,
      "outputs": [
        {
          "output_type": "execute_result",
          "data": {
            "text/plain": [
              "Text(0.5, 1.0, '\\nTraining and Validation Accuracy. \\nTrain Accuracy:0.9830508232116699\\nValidation Accuracy: 0.90625')"
            ]
          },
          "metadata": {},
          "execution_count": 23
        },
        {
          "output_type": "display_data",
          "data": {
            "text/plain": [
              "<Figure size 1000x1600 with 1 Axes>"
            ],
            "image/png": "[encoded data removed]"
          },
          "metadata": {}
        }
      ]
    },
    {
      "cell_type": "code",
      "source": [
        "plt.subplot(2, 1, 2)\n",
        "plt.plot(loss, label='Training Loss')\n",
        "plt.plot(val_loss, label='Validation Loss')\n",
        "plt.legend(loc='upper right')\n",
        "plt.ylabel('Cross Entropy')\n",
        "plt.title(f'Training and Validation Loss. \\nTrain Loss: {str(loss[-1])}\\nValidation Loss: {str(val_loss[-1])}')\n",
        "plt.xlabel('epoch')\n",
        "plt.tight_layout(pad=3.0)\n",
        "plt.show()"
      ],
      "metadata": {
        "colab": {
          "base_uri": "https://localhost:8080/",
          "height": 346
        },
        "id": "GF07TyQmmJIB",
        "outputId": "6c7c25fd-1fec-436a-f5d0-69b7112ee692"
      },
      "execution_count": 24,
      "outputs": [
        {
          "output_type": "display_data",
          "data": {
            "text/plain": [
              "<Figure size 1600x900 with 1 Axes>"
            ],
            "image/png": "[encoded data removed]"
          },
          "metadata": {}
        }
      ]
    },
    {
      "cell_type": "code",
      "source": [
        "accuracy_score = model1.evaluate(validation_generator)\n",
        "print(accuracy_score)\n",
        "print(\"Accuracy: {:.4f}%\".format(accuracy_score[1] * 100))\n",
        "print(\"Loss: \",accuracy_score[0])"
      ],
      "metadata": {
        "id": "pBr8ckKL4LGx",
        "colab": {
          "base_uri": "https://localhost:8080/"
        },
        "outputId": "898c41de-7a7f-443a-dcf9-2b478bb53a9a"
      },
      "execution_count": 25,
      "outputs": [
        {
          "output_type": "stream",
          "name": "stdout",
          "text": [
            "2/2 [==============================] - 16s 412ms/step - loss: 0.2348 - accuracy: 0.8788\n",
            "[0.23477578163146973, 0.8787878751754761]\n",
            "Accuracy: 87.8788%\n",
            "Loss:  0.23477578163146973\n"
          ]
        }
      ]
    },
    {
      "cell_type": "code",
      "source": [
        "test_generator = test_datagen.flow_from_directory(\n",
        "    '/content/test_set',\n",
        "    target_size=(331, 331),\n",
        "    batch_size=32,\n",
        "    class_mode='categorical',\n",
        "    shuffle=False\n",
        ")"
      ],
      "metadata": {
        "colab": {
          "base_uri": "https://localhost:8080/"
        },
        "id": "G5f5CZ_3jOSF",
        "outputId": "380c3bfc-0f10-46da-ebaf-7be96ac265cf"
      },
      "execution_count": 26,
      "outputs": [
        {
          "output_type": "stream",
          "name": "stdout",
          "text": [
            "Found 36 images belonging to 5 classes.\n"
          ]
        }
      ]
    },
    {
      "cell_type": "code",
      "source": [
        "accuracy_score = model1.evaluate(test_generator)\n",
        "print(accuracy_score)\n",
        "print(\"Accuracy: {:.4f}%\".format(accuracy_score[1] * 100))\n",
        "\n",
        "print(\"Loss: \",accuracy_score[0])"
      ],
      "metadata": {
        "colab": {
          "base_uri": "https://localhost:8080/"
        },
        "id": "4pzo-5vjm9pi",
        "outputId": "1290bfcc-7337-4703-eee6-fbb2a6e54ced"
      },
      "execution_count": 27,
      "outputs": [
        {
          "output_type": "stream",
          "name": "stdout",
          "text": [
            "2/2 [==============================] - 18s 2s/step - loss: 0.4512 - accuracy: 0.8889\n",
            "[0.45115211606025696, 0.8888888955116272]\n",
            "Accuracy: 88.8889%\n",
            "Loss:  0.45115211606025696\n"
          ]
        }
      ]
    },
    {
      "cell_type": "code",
      "source": [
        "import numpy as np\n",
        "y_true = test_generator.classes\n",
        "\n",
        "y_pred = model1.predict(test_generator)\n",
        "y_pred = [np.argmax(pred) for pred in y_pred]"
      ],
      "metadata": {
        "colab": {
          "base_uri": "https://localhost:8080/"
        },
        "id": "seNA8iFdzjTC",
        "outputId": "670c2179-1455-4984-8c67-80ff331fe12e"
      },
      "execution_count": 28,
      "outputs": [
        {
          "output_type": "stream",
          "name": "stdout",
          "text": [
            "2/2 [==============================] - 21s 2s/step\n"
          ]
        }
      ]
    },
    {
      "cell_type": "code",
      "source": [
        "import numpy as np\n",
        "from sklearn.metrics import accuracy_score, precision_score, recall_score, f1_score, classification_report, confusion_matrix\n",
        "import tensorflow as tf\n",
        "\n",
        "\n",
        "\n",
        "accuracy = accuracy_score(y_true,y_pred)\n",
        "\n",
        "precision = precision_score(y_true,y_pred,average = 'weighted')\n",
        "recall = recall_score(y_true,y_pred, average='weighted')\n",
        "f1 = f1_score(y_true,y_pred, average='weighted')\n",
        "\n",
        "\n",
        "confusion = confusion_matrix(y_true,y_pred)\n",
        "\n",
        "class_names = ['Rangoli', 'Foot','Padi', 'Strip','Swastik', ]\n",
        "report = classification_report(y_true,y_pred, target_names=class_names)\n",
        "\n",
        "\n",
        "# Print the metrics\n",
        "print(f\"Accuracy: {accuracy}\")\n",
        "print(f\"Precision: {precision}\")\n",
        "print(f\"Recall: {recall}\")\n",
        "print(f\"F1-Score: {f1}\")\n",
        "\n",
        "# Print the confusion matrix\n",
        "print(\"Confusion Matrix:\")\n",
        "print(confusion)\n",
        "\n",
        "\n",
        "print(\"Classification Report:\")\n",
        "print(report)"
      ],
      "metadata": {
        "colab": {
          "base_uri": "https://localhost:8080/"
        },
        "id": "DWbddUTGzt0u",
        "outputId": "4234bf08-d591-4d39-d5fb-31fe698d822e"
      },
      "execution_count": 29,
      "outputs": [
        {
          "output_type": "stream",
          "name": "stdout",
          "text": [
            "Accuracy: 0.8888888888888888\n",
            "Precision: 0.8943602693602694\n",
            "Recall: 0.8888888888888888\n",
            "F1-Score: 0.8853199918989394\n",
            "Confusion Matrix:\n",
            "[[7 0 0 1 0]\n",
            " [0 2 0 0 2]\n",
            " [0 1 9 0 0]\n",
            " [0 0 0 5 0]\n",
            " [0 0 0 0 9]]\n",
            "Classification Report:\n",
            "              precision    recall  f1-score   support\n",
            "\n",
            "     Rangoli       1.00      0.88      0.93         8\n",
            "        Foot       0.67      0.50      0.57         4\n",
            "        Padi       1.00      0.90      0.95        10\n",
            "       Strip       0.83      1.00      0.91         5\n",
            "     Swastik       0.82      1.00      0.90         9\n",
            "\n",
            "    accuracy                           0.89        36\n",
            "   macro avg       0.86      0.86      0.85        36\n",
            "weighted avg       0.89      0.89      0.89        36\n",
            "\n"
          ]
        }
      ]
    }
  ]
}